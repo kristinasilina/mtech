{
 "cells": [
  {
   "cell_type": "markdown",
   "id": "ba921076",
   "metadata": {},
   "source": [
    "Задание: проверить гипотезы\n",
    "1) Мужчины пропускают в течение года более 2 рабочих дней (work_days) по \n",
    "болезни значимо чаще женщин.\n",
    "2) Работники старше 35 лет (age) пропускают в течение года более 2 рабочих \n",
    "дней (work_days) по болезни значимо чаще своих более молодых коллег.\n",
    "\n",
    "По формулировке гипотез - я не совсем поняла, как именно проверить статестом разницу в распределениях частот, так как в самих данных у нас нет временных промежутков, когда кто брал больничный и изменение частоты взятия больничных по гендеру и возрасту мы отследить не можем, поэтому с желанием провести тесты я определила следующие гипотезы, которые возможно не совсем отвечают задумке этого задания\n",
    "\n",
    "По первой части задания: \n",
    "HO: Среднее количество пропущенных рабочих дней по болезни (более 2 work-days) у мужчин и женщин одинаково.\n",
    "H1: Среднее количество пропущенных рабочих дней по болезни (более 2 work-days) у мужчин и женщин различается значимо.\n",
    "\n",
    "По второй части задания:\n",
    "HO: Среднее количество пропущенных рабочих дней по болезни (более 2 work-days) у работников старше 35 лет и моложе 35 лет одинаково.\n",
    "H1: Среднее количество пропущенных рабочих дней по болезни (более 2 work-days) у работников старше 35 лет и моложе 35 лет различается значимо.\n",
    "\n",
    "В дашборде возможно регулировать параметры тестов и графиков с помощью слайдеров под гистограммами, в ноутбуке это возможно при изменении значений переменных, там где это обозначено комментарием."
   ]
  },
  {
   "cell_type": "code",
   "execution_count": 10,
   "id": "9eeb9d32",
   "metadata": {},
   "outputs": [],
   "source": [
    "import pandas as pd\n",
    "import numpy as np\n",
    "import matplotlib.pyplot as plt\n",
    "from scipy import stats\n",
    "import io\n",
    "import chardet"
   ]
  },
  {
   "cell_type": "code",
   "execution_count": 11,
   "id": "7d3b6d69",
   "metadata": {},
   "outputs": [],
   "source": [
    "file_path = 'М.Тех_Данные_к_ТЗ_DS.csv'\n",
    "\n",
    "# Определение кодировки файла - при тестах у меня показал кодировку файла windows-1251, поэтому дефолтная utf_8 не срабатывала (в любом случае так код универсальнее)\n",
    "with open(file_path, 'rb') as file:\n",
    "    detector = chardet.universaldetector.UniversalDetector()\n",
    "    for line in file:\n",
    "        detector.feed(line)\n",
    "        if detector.done:\n",
    "            break\n",
    "    detector.close()\n",
    "    file_encoding = detector.result['encoding']\n",
    "\n",
    "# Чтение данных с определенной кодировкой\n",
    "data = pd.read_csv(file_path, encoding=file_encoding, engine='python')"
   ]
  },
  {
   "cell_type": "code",
   "execution_count": 13,
   "id": "0dead1b6",
   "metadata": {},
   "outputs": [],
   "source": [
    "# приведение датафрейма к рабочему виду, распределение по колонкам\n",
    "data = data['Количество больничных дней,\"Возраст\",\"Пол\"'].str.split(',', expand=True)\n",
    "data.columns = ['Количество больничных дней', 'Возраст', 'Пол']\n",
    "data['Пол'] = data['Пол'].str.replace('\"', '')\n",
    "data['Количество больничных дней'] = data['Количество больничных дней'].astype('int')\n",
    "data['Возраст'] = data['Возраст'].astype('int')"
   ]
  },
  {
   "cell_type": "code",
   "execution_count": 15,
   "id": "353a0a50",
   "metadata": {},
   "outputs": [
    {
     "data": {
      "image/png": "[encoded data removed]",
      "text/plain": [
       "<Figure size 1000x500 with 2 Axes>"
      ]
     },
     "metadata": {},
     "output_type": "display_data"
    }
   ],
   "source": [
    "work_days = 2 # тут можно задать количество рабочих дней\n",
    "filtered_data_men = data[(data['Пол'] == 'М') & (data['Количество больничных дней'] > work_days)]\n",
    "hist_values_men, bin_edges_men = np.histogram(filtered_data_men['Количество больничных дней'], bins=filtered_data_men['Количество больничных дней'].nunique())\n",
    "\n",
    "fig = plt.figure()\n",
    "fig.set_size_inches(10, 5)\n",
    "\n",
    "#строим гистограмму распределения для мужчин\n",
    "ax_1 = fig.add_subplot(1, 2, 1)\n",
    "ax_1.set(title = 'Мужчины')\n",
    "plt.hist(filtered_data_men['Количество больничных дней'], bins=bin_edges_men, color=\"#00bfff\", edgecolor='black')\n",
    "\n",
    "# Добавляем подписи к осям\n",
    "ax_1.set_xlabel('Number of days')\n",
    "ax_1.set_ylabel('Frequency')\n",
    "ax_1.set_ylim(0, max(hist_values_men) + 5) # масштаб оси y специально один у двух графиков - для наглядности\n",
    "ax_1.set_xticks(range(work_days, work_days + len(hist_values_men)))\n",
    "\n",
    "#строим гистограмму распределения для женщин\n",
    "ax_2 = fig.add_subplot(1, 2, 2)\n",
    "ax_2.set_title('Женщины')\n",
    "filtered_data_women = data[(data['Пол'] == 'Ж') & (data['Количество больничных дней'] > work_days)]\n",
    "hist_values_women, bin_edges_women = np.histogram(filtered_data_women['Количество больничных дней'], bins=filtered_data_women['Количество больничных дней'].nunique())\n",
    "plt.hist(filtered_data_women['Количество больничных дней'], bins=bin_edges_women, color=\"#a9ea44\", edgecolor='black')\n",
    "\n",
    "# Добавляем подписи к осям\n",
    "ax_2.set_xlabel('Number of days')\n",
    "ax_2.set_ylabel('Frequency')\n",
    "ax_2.set_ylim(0, max(hist_values_men) + 5)\n",
    "ax_2.set_xticks(range(work_days, work_days + len(hist_values_women)))\n",
    "\n",
    "# Отображаем графики\n",
    "plt.show()"
   ]
  },
  {
   "cell_type": "code",
   "execution_count": 16,
   "id": "1f6a4276",
   "metadata": {},
   "outputs": [
    {
     "name": "stdout",
     "output_type": "stream",
     "text": [
      "Процентное соотношение частоты взятия больничных:\n",
      "Мужчины берут больничный более 2 work-days на 25% чаще, чем женщины.\n"
     ]
    }
   ],
   "source": [
    "# Для сравнения частоты я не догадалась как использовать статтесты, но можем вывести обычное процентное соотношение, тоже интерактивное со слайдером\n",
    "print('Процентное соотношение частоты взятия больничных:')\n",
    "print(f'Мужчины берут больничный более {work_days} work-days на {(filtered_data_men.shape[0]-filtered_data_women.shape[0])*100/filtered_data_women.shape[0] :.0f}% чаще, чем женщины.')\n"
   ]
  },
  {
   "cell_type": "code",
   "execution_count": 17,
   "id": "99af82cd",
   "metadata": {},
   "outputs": [
    {
     "name": "stdout",
     "output_type": "stream",
     "text": [
      "T-test (двухвыборочный) для проверки гипотезы о гендерных различиях в статистике:\n",
      "HO: Среднее количество пропущенных рабочих дней по болезни (более 2 work-days) у мужчин и женщин одинаково.\n",
      "H1: Среднее количество пропущенных рабочих дней по болезни (более 2 work-days) у мужчин и женщин различается значимо.\n",
      "Men vs Women:\n",
      "t-статистика: -0.42\n",
      "p-значение: 0.6781\n",
      "Принятый уровень значимости: 0.05\n",
      "По итогу теста верна гипотеза: Среднее количество пропущенных рабочих дней по болезни (более 2 work-days) у мужчин и женщин одинаково.\n",
      "\n"
     ]
    }
   ],
   "source": [
    "# Статтест для проверки гипотез, и вывод его параметров и результатов\n",
    "print('T-test (двухвыборочный) для проверки гипотезы о гендерных различиях в статистике:')\n",
    "h0_gender = f'Среднее количество пропущенных рабочих дней по болезни (более {work_days} work-days) у мужчин и женщин одинаково.'\n",
    "h1_gender = f'Среднее количество пропущенных рабочих дней по болезни (более {work_days} work-days) у мужчин и женщин различается значимо.'\n",
    "print(f'HO: {h0_gender}\\nH1: {h1_gender}')\n",
    "t_stat_gender, p_value_gender = stats.ttest_ind(filtered_data_women['Количество больничных дней'],\n",
    "                                      filtered_data_men['Количество больничных дней'])\n",
    "if p_value_gender < 0.05:\n",
    "    hyp_gender = h1_gender\n",
    "else:\n",
    "    hyp_gender = h0_gender\n",
    "    \n",
    "print(f'Men vs Women:\\n'\n",
    "                  f't-статистика: {t_stat_gender:.2f}\\n'\n",
    "                  f'p-значение: {p_value_gender:.4f}')\n",
    "print(f'Принятый уровень значимости: 0.05\\n'\n",
    "            f'По итогу теста верна гипотеза: {hyp_gender}\\n')\n"
   ]
  },
  {
   "cell_type": "markdown",
   "id": "1597dc76",
   "metadata": {},
   "source": [
    "**Вторая часть задания - исследования возрастных различий**\n"
   ]
  },
  {
   "cell_type": "code",
   "execution_count": 18,
   "id": "3ab12a4c",
   "metadata": {},
   "outputs": [
    {
     "data": {
      "image/png": "[encoded data removed]",
      "text/plain": [
       "<Figure size 1000x500 with 2 Axes>"
      ]
     },
     "metadata": {},
     "output_type": "display_data"
    }
   ],
   "source": [
    "work_days_2 = 2 # здесь можно задать количество дней\n",
    "age = 35 # здесь можно задать возраст\n",
    "\n",
    "fig = plt.figure()\n",
    "fig.set_size_inches(10, 5)\n",
    "\n",
    "# строим гистограмму распределения для старших работников\n",
    "ax_1 = fig.add_subplot(1, 2, 1)\n",
    "ax_1.set_title(f'Работники старше, чем {age} лет')\n",
    "filtered_data_old = data[(data['Возраст'] > age ) & (data['Количество больничных дней'] > work_days_2)]\n",
    "hist_values_old, bin_edges_old = np.histogram(filtered_data_old['Количество больничных дней'], bins=filtered_data_old['Количество больничных дней'].nunique())\n",
    "\n",
    "plt.hist(filtered_data_old['Количество больничных дней'], bins=bin_edges_old, color=\"#00bf21\", edgecolor='black')\n",
    "\n",
    "# Добавляем подписи к осям\n",
    "ax_1.set_xlabel('Number of days')\n",
    "ax_1.set_ylabel('Frequency')\n",
    "ax_1.set_ylim(0, max(hist_values_old) + 5) # масштаб опять одинаковый для обоих графиков\n",
    "ax_1.set_xticks(range(work_days_2, work_days_2 + len(hist_values_old)))\n",
    "\n",
    "# То же самое для молодых работников\n",
    "ax_2 = fig.add_subplot(1, 2, 2)\n",
    "ax_2.set_title(f'Работники моложе {age} лет')\n",
    "filtered_data_young = data[(data['Возраст'] <= age ) & (data['Количество больничных дней'] > work_days_2)]\n",
    "hist_values_young, bin_edges_young = np.histogram(filtered_data_young['Количество больничных дней'], bins=filtered_data_young['Количество больничных дней'].nunique())\n",
    "\n",
    "plt.hist(filtered_data_young['Количество больничных дней'], bins=bin_edges_young, color=\"#a9eaff\", edgecolor='black')\n",
    "\n",
    "# Добавляем подписи к осям\n",
    "ax_2.set_xlabel('Number of days')\n",
    "ax_2.set_ylabel('Frequency')\n",
    "ax_2.set_ylim(0, max(hist_values_old) + 5)\n",
    "ax_2.set_xticks(range(work_days_2, work_days_2 + len(hist_values_young)))\n",
    "\n",
    "# Отображаем график\n",
    "plt.show()\n"
   ]
  },
  {
   "cell_type": "code",
   "execution_count": 19,
   "id": "c2d1a499",
   "metadata": {},
   "outputs": [
    {
     "name": "stdout",
     "output_type": "stream",
     "text": [
      "Процентное соотношение частоты взятия больничных:\n",
      "Работники старше 35 лет берут больничный более 2 work-days на 219% чаще, чем работники моложе 35 лет.\n"
     ]
    }
   ],
   "source": [
    "# Процентная статистика соотношения\n",
    "print('Процентное соотношение частоты взятия больничных:')\n",
    "print(f'Работники старше {age} лет берут больничный более {work_days} work-days на {(filtered_data_old.shape[0] - filtered_data_young.shape[0]) * 100 / filtered_data_young.shape[0] :.0f}% чаще, чем работники моложе {age} лет.')\n"
   ]
  },
  {
   "cell_type": "code",
   "execution_count": 20,
   "id": "754a7e26",
   "metadata": {},
   "outputs": [
    {
     "name": "stdout",
     "output_type": "stream",
     "text": [
      "T-test (двухвыборочный) для проверки гипотезы о возрастных различиях в статистике:\n",
      "HO: Среднее количество пропущенных рабочих дней по болезни (более 2 work-days) у работников старше 35 лет и моложе 35 лет одинаково.\n",
      "H1: Среднее количество пропущенных рабочих дней по болезни (более 2 work-days) у работников старше 35 лет и моложе 35 лет различается значимо.\n",
      "Old vs Young:\n",
      "t-статистика: -0.76\n",
      "p-значение: 0.4488\n",
      "Принятый уровень значимости: 0.05\n",
      "По итогу теста верна гипотеза: Среднее количество пропущенных рабочих дней по болезни (более 2 work-days) у работников старше 35 лет и моложе 35 лет одинаково.\n",
      "\n"
     ]
    }
   ],
   "source": [
    "#  Статтест для проверки гипотез, и вывод его параметров и результатов\n",
    "print('T-test (двухвыборочный) для проверки гипотезы о возрастных различиях в статистике:')\n",
    "h0_age = f'Среднее количество пропущенных рабочих дней по болезни (более {work_days_2} work-days) у работников старше {age} лет и моложе {age} лет одинаково.'\n",
    "h1_age = f'Среднее количество пропущенных рабочих дней по болезни (более {work_days_2} work-days) у работников старше {age} лет и моложе {age} лет различается значимо.'\n",
    "print(f'HO: {h0_age}\\nH1: {h1_age}')\n",
    "t_stat_age, p_value_age = stats.ttest_ind(filtered_data_old['Количество больничных дней'],\n",
    "                                      filtered_data_young['Количество больничных дней'])\n",
    "if p_value_age < 0.05:\n",
    "    hyp_age = h1_age\n",
    "else:\n",
    "    hyp_age = h0_age\n",
    "print(f'Old vs Young:\\n'\n",
    "      f't-статистика: {t_stat_age:.2f}\\n'\n",
    "      f'p-значение: {p_value_age:.4f}')\n",
    "print(f'Принятый уровень значимости: 0.05\\n'\n",
    "      f'По итогу теста верна гипотеза: {hyp_age}\\n')"
   ]
  }
 ],
 "metadata": {
  "kernelspec": {
   "display_name": "Python 3 (ipykernel)",
   "language": "python",
   "name": "python3"
  },
  "language_info": {
   "codemirror_mode": {
    "name": "ipython",
    "version": 3
   },
   "file_extension": ".py",
   "mimetype": "text/x-python",
   "name": "python",
   "nbconvert_exporter": "python",
   "pygments_lexer": "ipython3",
   "version": "3.11.4"
  }
 },
 "nbformat": 4,
 "nbformat_minor": 5
}
